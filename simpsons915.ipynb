{
 "cells": [
  {
   "cell_type": "markdown",
   "metadata": {},
   "source": [
    "## Зависимости"
   ]
  },
  {
   "cell_type": "code",
   "execution_count": 1,
   "metadata": {},
   "outputs": [
    {
     "name": "stderr",
     "output_type": "stream",
     "text": [
      "/usr/local/lib/python3.8/dist-packages/tqdm/auto.py:22: TqdmWarning: IProgress not found. Please update jupyter and ipywidgets. See https://ipywidgets.readthedocs.io/en/stable/user_install.html\n",
      "  from .autonotebook import tqdm as notebook_tqdm\n"
     ]
    }
   ],
   "source": [
    "import numpy as np\n",
    "import pandas as pd\n",
    "import torch\n",
    "import torch.nn as nn\n",
    "import torch.optim as optim\n",
    "import torchvision\n",
    "from torchvision.datasets import ImageFolder\n",
    "from torch.utils.data import random_split\n",
    "from torchmetrics.classification import MulticlassF1Score\n",
    "from typing import Tuple\n",
    "from torchmetrics import F1Score\n",
    "from torch.utils.tensorboard import SummaryWriter\n",
    "import matplotlib.pyplot as plt\n",
    "from tqdm import tqdm, tqdm_notebook\n",
    "%matplotlib inline"
   ]
  },
  {
   "cell_type": "markdown",
   "metadata": {},
   "source": [
    "## Подготовка"
   ]
  },
  {
   "cell_type": "code",
   "execution_count": 2,
   "metadata": {},
   "outputs": [
    {
     "name": "stdout",
     "output_type": "stream",
     "text": [
      "PyTorch Version:\t 1.13.1+cu117\n",
      "Torchvision Version:\t 0.14.1+cu117\n",
      "CUDA is available!  Training on GPU ...\n"
     ]
    }
   ],
   "source": [
    "path = r\"../simpsons_dataset_kaggle\"\n",
    "\n",
    "print(\"PyTorch Version:\\t\", torch.__version__)\n",
    "print(\"Torchvision Version:\\t\", torchvision.__version__)\n",
    "\n",
    "if torch.cuda.is_available():\n",
    "    print('CUDA is available!  Training on GPU ...')\n",
    "    device = torch.device('cuda:0')\n",
    "else:\n",
    "    print('CUDA is not available.  Training on CPU ...')\n",
    "    device = torch.device('cpu')\n"
   ]
  },
  {
   "cell_type": "markdown",
   "metadata": {},
   "source": [
    "### Средний размер картинки"
   ]
  },
  {
   "cell_type": "code",
   "execution_count": 3,
   "metadata": {},
   "outputs": [
    {
     "name": "stdout",
     "output_type": "stream",
     "text": [
      "Average size of images in dataset: 409.30086466345006 x 416.8775617446138\n"
     ]
    }
   ],
   "source": [
    "from PIL import Image\n",
    "import os\n",
    "\n",
    "path = r\"../simpsons_dataset_kaggle\"\n",
    "\n",
    "total_width = 0\n",
    "total_height = 0\n",
    "num_images = 0\n",
    "\n",
    "# обход дерева сверху вниз\n",
    "for dirpath, _, files in os.walk(path):\n",
    "    for file in files:\n",
    "        if file.endswith('.jpg') or file.endswith('.png'):\n",
    "            with Image.open(os.path.join(dirpath, file)) as img:\n",
    "                width, height = img.size\n",
    "                total_width += width\n",
    "                total_height += height\n",
    "                num_images += 1\n",
    "\n",
    "average_width = total_width / num_images\n",
    "average_height = total_height / num_images\n",
    "\n",
    "print(f'Average size of images in dataset: {average_width} x {average_height}')"
   ]
  },
  {
   "cell_type": "code",
   "execution_count": 4,
   "metadata": {},
   "outputs": [],
   "source": [
    "SEED = 42\n",
    "\n",
    "np.random.seed(SEED)\n",
    "torch.manual_seed(SEED)\n",
    "torch.cuda.manual_seed(SEED)"
   ]
  },
  {
   "cell_type": "markdown",
   "metadata": {},
   "source": [
    "## Гиперпараметры"
   ]
  },
  {
   "cell_type": "code",
   "execution_count": 5,
   "metadata": {},
   "outputs": [],
   "source": [
    "batch_size = 32\n",
    "num_epochs = 30\n",
    "learning_rate = 0.005\n",
    "rescale_size = (32, 32)\n",
    "mean = [0.5]\n",
    "std = [0.5]\n"
   ]
  },
  {
   "cell_type": "markdown",
   "metadata": {},
   "source": [
    "## Загрузка датесета"
   ]
  },
  {
   "cell_type": "code",
   "execution_count": 6,
   "metadata": {},
   "outputs": [],
   "source": [
    "# Обработка входного изображения:\n",
    "transform = torchvision.transforms.Compose([\n",
    "    torchvision.transforms.ToTensor(),  # (0 - 1)\n",
    "    torchvision.transforms.Resize(\n",
    "        rescale_size, antialias=True),\n",
    "    torchvision.transforms.Normalize(  # (-1, 1)\n",
    "        mean=mean,\n",
    "        std=std,\n",
    "    ),\n",
    "    torchvision.transforms.RandomHorizontalFlip(),\n",
    "    torchvision.transforms.RandomRotation(5)\n",
    "])\n",
    "dataset = ImageFolder(path, transform=transform)\n",
    "num_classes = len(dataset.classes)"
   ]
  },
  {
   "cell_type": "markdown",
   "metadata": {},
   "source": [
    "## Сводка"
   ]
  },
  {
   "cell_type": "code",
   "execution_count": 7,
   "metadata": {},
   "outputs": [
    {
     "data": {
      "text/html": [
       "<div>\n",
       "<style scoped>\n",
       "    .dataframe tbody tr th:only-of-type {\n",
       "        vertical-align: middle;\n",
       "    }\n",
       "\n",
       "    .dataframe tbody tr th {\n",
       "        vertical-align: top;\n",
       "    }\n",
       "\n",
       "    .dataframe thead th {\n",
       "        text-align: right;\n",
       "    }\n",
       "</style>\n",
       "<table border=\"1\" class=\"dataframe\">\n",
       "  <thead>\n",
       "    <tr style=\"text-align: right;\">\n",
       "      <th></th>\n",
       "      <th>classes</th>\n",
       "      <th>counts</th>\n",
       "    </tr>\n",
       "  </thead>\n",
       "  <tbody>\n",
       "    <tr>\n",
       "      <th>19</th>\n",
       "      <td>lionel_hutz</td>\n",
       "      <td>3</td>\n",
       "    </tr>\n",
       "    <tr>\n",
       "      <th>10</th>\n",
       "      <td>disco_stu</td>\n",
       "      <td>8</td>\n",
       "    </tr>\n",
       "    <tr>\n",
       "      <th>40</th>\n",
       "      <td>troy_mcclure</td>\n",
       "      <td>8</td>\n",
       "    </tr>\n",
       "    <tr>\n",
       "      <th>26</th>\n",
       "      <td>miss_hoover</td>\n",
       "      <td>17</td>\n",
       "    </tr>\n",
       "    <tr>\n",
       "      <th>12</th>\n",
       "      <td>fat_tony</td>\n",
       "      <td>27</td>\n",
       "    </tr>\n",
       "  </tbody>\n",
       "</table>\n",
       "</div>"
      ],
      "text/plain": [
       "         classes  counts\n",
       "19   lionel_hutz       3\n",
       "10     disco_stu       8\n",
       "40  troy_mcclure       8\n",
       "26   miss_hoover      17\n",
       "12      fat_tony      27"
      ]
     },
     "execution_count": 7,
     "metadata": {},
     "output_type": "execute_result"
    }
   ],
   "source": [
    "targets = torch.as_tensor(dataset.targets)\n",
    "counts_tensor = torch.unique(targets, return_counts=True)[1]\n",
    "counts = torch.Tensor.tolist(counts_tensor)\n",
    "classes = dataset.classes\n",
    "dataset_summary = pd.DataFrame({\n",
    "    \"classes\": classes,\n",
    "    \"counts\": counts\n",
    "})\n",
    "dataset_summary.sort_values(\"counts\").head()"
   ]
  },
  {
   "cell_type": "markdown",
   "metadata": {},
   "source": [
    "## Разделение датасета"
   ]
  },
  {
   "cell_type": "code",
   "execution_count": 8,
   "metadata": {},
   "outputs": [],
   "source": [
    "# Определить размеры тренировочного, валидационного и тестового наборов данных\n",
    "val_proportion, test_proportion = 0.2, 0.3\n",
    "val_size = int(val_proportion * len(dataset))\n",
    "test_size = int(test_proportion * len(dataset))\n",
    "train_size = len(dataset) - test_size - val_size\n",
    "\n",
    "# Разделить датасет на тренировочный, валидационный и тестовый наборы данных\n",
    "train_dataset, val_dataset, test_dataset = random_split(dataset, [train_size, val_size, test_size])\n",
    "\n",
    "# Создать итераторы для загрузки данных пакетами в 4 потока. Перед каждой эпохой данные перемешиваются\n",
    "train_loader=torch.utils.data.DataLoader(train_dataset,batch_size=batch_size, num_workers=8, shuffle=True)\n",
    "test_loader = torch.utils.data.DataLoader(test_dataset,batch_size=batch_size, num_workers=8, shuffle=True)\n",
    "valid_loader = torch.utils.data.DataLoader(val_dataset,batch_size=batch_size, num_workers=8, shuffle=True)"
   ]
  },
  {
   "cell_type": "markdown",
   "metadata": {},
   "source": [
    "## Тест загрузчика"
   ]
  },
  {
   "cell_type": "code",
   "execution_count": 9,
   "metadata": {},
   "outputs": [
    {
     "name": "stderr",
     "output_type": "stream",
     "text": [
      "Clipping input data to the valid range for imshow with RGB data ([0..1] for floats or [0..255] for integers).\n",
      "Clipping input data to the valid range for imshow with RGB data ([0..1] for floats or [0..255] for integers).\n",
      "Clipping input data to the valid range for imshow with RGB data ([0..1] for floats or [0..255] for integers).\n",
      "Clipping input data to the valid range for imshow with RGB data ([0..1] for floats or [0..255] for integers).\n",
      "Clipping input data to the valid range for imshow with RGB data ([0..1] for floats or [0..255] for integers).\n",
      "Clipping input data to the valid range for imshow with RGB data ([0..1] for floats or [0..255] for integers).\n",
      "Clipping input data to the valid range for imshow with RGB data ([0..1] for floats or [0..255] for integers).\n",
      "Clipping input data to the valid range for imshow with RGB data ([0..1] for floats or [0..255] for integers).\n"
     ]
    },
    {
     "data": {
      "image/png": "[encoded data removed]",
      "text/plain": [
       "<Figure size 1200x400 with 8 Axes>"
      ]
     },
     "metadata": {},
     "output_type": "display_data"
    }
   ],
   "source": [
    "images, labels = next(iter(train_loader))\n",
    "images = images.numpy()\n",
    "\n",
    "fig = plt.figure(figsize=(12, 4))\n",
    "for idx in np.arange(8):\n",
    "    ax = fig.add_subplot(1, 8, idx+1, xticks=[], yticks=[])\n",
    "    plt.imshow(np.transpose(images[idx], (1, 2, 0)))\n",
    "    plt.subplots_adjust(wspace=0.05, hspace=0.05)"
   ]
  },
  {
   "cell_type": "markdown",
   "metadata": {},
   "source": [
    "## Модель"
   ]
  },
  {
   "cell_type": "code",
   "execution_count": 10,
   "metadata": {},
   "outputs": [],
   "source": [
    "class CNN(nn.Module):\n",
    "    def __init__(\n",
    "        self,\n",
    "        num_classes: int = 42,\n",
    "    ):\n",
    "        super().__init__()\n",
    "\n",
    "        self.num_classes = num_classes\n",
    "        \n",
    "        self.conv1 = nn.Sequential(\n",
    "            nn.Conv2d(in_channels=3, out_channels=32,\n",
    "                      kernel_size=3, stride=1, padding=1),\n",
    "            nn.BatchNorm2d(32),\n",
    "            nn.ReLU(),\n",
    "            nn.Conv2d(in_channels=32, out_channels=64,\n",
    "                      kernel_size=3, stride=1, padding=1),\n",
    "            nn.BatchNorm2d(64),\n",
    "            nn.ReLU())\n",
    "        \n",
    "        self.conv2 = nn.Sequential(\n",
    "            nn.Conv2d(in_channels=64, out_channels=64,\n",
    "                      kernel_size=3, stride=1, padding=1),\n",
    "            nn.BatchNorm2d(64),\n",
    "            nn.ReLU(),\n",
    "            nn.Conv2d(in_channels=64, out_channels=128,\n",
    "                      kernel_size=3, stride=1, padding=1),\n",
    "            nn.BatchNorm2d(128),\n",
    "            nn.ReLU())\n",
    "\n",
    "        self.pool1 = nn.MaxPool2d(2,2)\n",
    "        \n",
    "        self.conv3 = nn.Sequential(\n",
    "            nn.Conv2d(in_channels=128, out_channels=128,\n",
    "                      kernel_size=3, stride=1, padding=1),\n",
    "            nn.BatchNorm2d(128),\n",
    "            nn.ReLU(),\n",
    "            nn.Conv2d(in_channels=128, out_channels=256,\n",
    "                      kernel_size=3, stride=1, padding=1),\n",
    "            nn.BatchNorm2d(256),\n",
    "            nn.ReLU())\n",
    "\n",
    "        self.conv4 = nn.Sequential(\n",
    "            nn.Conv2d(in_channels=256, out_channels=256,\n",
    "                      kernel_size=3, stride=1, padding=1),\n",
    "            nn.BatchNorm2d(256),\n",
    "            nn.ReLU(),\n",
    "            nn.Conv2d(in_channels=256, out_channels=512,\n",
    "                      kernel_size=3, stride=1, padding=1),\n",
    "            nn.BatchNorm2d(512),\n",
    "            nn.ReLU())\n",
    "\n",
    "        self.pool2 = nn.MaxPool2d(2,2)\n",
    "        \n",
    "        self.conv5 = nn.Sequential(\n",
    "            nn.Conv2d(in_channels=512, out_channels=512,\n",
    "                      kernel_size=3, stride=1, padding=1),\n",
    "            nn.BatchNorm2d(512),\n",
    "            nn.ReLU(),\n",
    "            nn.Conv2d(in_channels=512, out_channels=512,\n",
    "                      kernel_size=3, stride=1, padding=1),\n",
    "            nn.BatchNorm2d(512),\n",
    "            nn.ReLU())\n",
    "\n",
    "        self.avg_pool = nn.AdaptiveAvgPool2d((1, 1))\n",
    "        self.fc1 = nn.Linear(512, num_classes)\n",
    "        \n",
    "        self.train_losses = []\n",
    "        self.valid_losses = []\n",
    "        self.test_metrics = []\n",
    "        \n",
    "    def forward(self, x: torch.Tensor):\n",
    "        x = self.conv1(x)\n",
    "        x = self.conv2(x)\n",
    "        x = self.pool1(x)\n",
    "        x = self.conv3(x)\n",
    "        x = self.conv4(x)\n",
    "        x = self.pool2(x)\n",
    "        x = self.conv5(x)\n",
    "        x = self.avg_pool(x)\n",
    "        x = x.view(-1, 512)\n",
    "        x = self.fc1(x)\n",
    "        return x\n",
    "    \n",
    "    # Сохранить парметры модели\n",
    "    def save(self, filename='./weights.pt'):\n",
    "        torch.save(obj=self.state_dict(), f=filename)\n",
    "\n",
    "    # Загрузить параметры модели\n",
    "    def load(self, filename='./weights.pt'):\n",
    "        loaded_state_dict = torch.load(filename)\n",
    "        self.load_state_dict(loaded_state_dict)\n",
    "    \n",
    "    def train_step(self, epoch, optimizer, train_loader, criterion):\n",
    "        # Здесь будет сумма loss'ов по всем батчам\n",
    "        running_loss = 0.\n",
    "        f1 = MulticlassF1Score(\n",
    "        num_classes=num_classes, average=\"micro\").to(device)\n",
    "        \n",
    "        for step, data in enumerate(train_loader, 0):\n",
    "            # Переместить изображения и метки на устройство\n",
    "            images, labels = data[0].to(device), data[1].to(device)\n",
    "\n",
    "            # Удалить накопленные ранее градиенты\n",
    "            optimizer.zero_grad()\n",
    "            \n",
    "            # Делаем проход (forward pass).\n",
    "            # Состояние модели `train` обеспечивает сохранение промежуточных результатов вычислений.\n",
    "            # Эти сохраненные значения будут использованы ниже для вычисления градиента функции потерь.\n",
    "            outputs = self(images)\n",
    "            \n",
    "            # Получить индексы максимальных значений для каждой строки тензора outputs в измерении 1 (т.е. для каждого изображения в батче), обойти проверку Autograd\n",
    "            _, predicted = torch.max(outputs.data, 1)\n",
    "\n",
    "            # Обновить метрику f1.\n",
    "            f1.update(predicted, labels)\n",
    "            \n",
    "            # Вычислить функцию потерь на основе предсказания модели.\n",
    "            loss = criterion(outputs, labels)\n",
    "            \n",
    "            # Выполнить обратный проход и обновить параметры с помощью оптимизатора.\n",
    "            loss.backward()\n",
    "            \n",
    "            # Обновить веса: parameter += -lr * parameter.grad\n",
    "            # \n",
    "            # PyTorch SGD:\n",
    "            # velocity = momentum * velocity + parameter.grad\n",
    "            # parameter += - lr * velocity\n",
    "            optimizer.step()\n",
    "\n",
    "            # Накопление статистики - прибавить средний loss по батчу\n",
    "            running_loss += loss.item()\n",
    "        \n",
    "        # Вернуть loss и метрику\n",
    "        return running_loss, f1.compute()\n",
    "\n",
    "    \n",
    "    def valid_step(self, valid_loader, criterion):\n",
    "        # Здесь будет сумма loss'ов по всем батчам\n",
    "        running_loss = 0.\n",
    "        f1 = MulticlassF1Score(\n",
    "        num_classes=num_classes, average=\"micro\").to(device)\n",
    "        \n",
    "        # Не считать градиент\n",
    "        with torch.no_grad():\n",
    "            for data in valid_loader:\n",
    "                # Переместить изображения и метки на устройство\n",
    "                inputs, labels = data[0].to(device), data[1].to(device)\n",
    "                \n",
    "                # Прямой проход\n",
    "                outputs = self(inputs)\n",
    "                \n",
    "                # Получить индексы максимальных значений для каждой строки тензора outputs в измерении 1 (т.е. для каждого изображения в батче), обойти проверку Autograd\n",
    "                _, predicted = torch.max(outputs.data, 1)  \n",
    "                \n",
    "                # Обновить метрику f1.\n",
    "                f1.update(predicted, labels)\n",
    "                \n",
    "                # Вычислить функцию потерь на основе предсказания модели.\n",
    "                loss = criterion(outputs, labels)\n",
    "                \n",
    "                # Накопление статистики - прибавить средний loss по батчу\n",
    "                running_loss += loss.item()\n",
    "       \n",
    "        return running_loss, f1.compute()\n",
    "        \n",
    "        \n",
    "        \n",
    "    def train(self, train_loader, valid_loader, num_epochs=2, learning_rate=0.001, momentum=0.9, device=torch.device('cpu')):\n",
    "        self.to(device)\n",
    "        \n",
    "        criterion = nn.CrossEntropyLoss()\n",
    "        # optimizer = optim.SGD(self.parameters(), lr=learning_rate, momentum=momentum)\n",
    "        optimizer = torch.optim.Adam(self.parameters(), betas=(0.9, 0.999), lr=learning_rate, weight_decay = 0.00001)\n",
    "        \n",
    "        # Уменьшения скорости обучения на плато. Learning rate умножается на factor, как только в течение patience эпох метрика не улучшается.\n",
    "        # verbose - вывод сообщений, threshold - порог улучшения метрики.\n",
    "        scheduler = torch.optim.lr_scheduler.ReduceLROnPlateau(optimizer, factor=0.1, patience=3, verbose=True, threshold=1e-4)\n",
    "        \n",
    "        writer = SummaryWriter(f\"runs/\")\n",
    "        \n",
    "        # Количество батчей, нужно чтобы получить средний loss по всем батчам из суммы\n",
    "        train_batches_count = len(train_loader)\n",
    "        val_batches_count = len(valid_loader)\n",
    "\n",
    "        print('Training started')\n",
    "        \n",
    "        pbar = tqdm(range(num_epochs))\n",
    "        for epoch in pbar:\n",
    "            train_loss, train_f1 = self.train_step(epoch,optimizer, train_loader, criterion)\n",
    "            valid_loss, valid_f1 = self.valid_step(valid_loader,criterion)     \n",
    "            \n",
    "            scheduler.step(valid_loss/val_batches_count)\n",
    "            \n",
    "            writer.add_scalars(f\"Losses\",{\"Train\": train_loss/train_batches_count,\"Valid\": valid_loss/val_batches_count}, epoch)\n",
    "            writer.add_scalars(f\"Metrics\",{\"Train\": train_f1,\"Valid\": valid_f1 }, epoch)\n",
    "            \n",
    "            self.train_losses.append(train_loss/train_batches_count)\n",
    "            self.valid_losses.append(valid_loss/val_batches_count)\n",
    "            \n",
    "        print('Training finished')\n",
    "        \n",
    "\n",
    "    def test(self, test_loader):\n",
    "\n",
    "        f1 = MulticlassF1Score(\n",
    "        num_classes=num_classes, average=\"micro\").to(device)\n",
    "        class_f1 = MulticlassF1Score(\n",
    "        num_classes=num_classes, average=None).to(device)\n",
    "        \n",
    "        print('Testing started')\n",
    "        \n",
    "        with torch.no_grad():\n",
    "            for data in test_loader:\n",
    "                images, labels = data[0].to(device), data[1].to(device)\n",
    "                \n",
    "                outputs = self(images)\n",
    "\n",
    "                _, predicted = torch.max(outputs.data, 1)\n",
    "                   \n",
    "                f1.update(predicted,labels)\n",
    "                class_f1.update(predicted,labels)\n",
    "                \n",
    "        self.test_metrics = class_f1.compute() \n",
    "        \n",
    "        print('Testing finished')     \n",
    "        print(f\"F1(average): {f1.compute():.3%}\")"
   ]
  },
  {
   "cell_type": "code",
   "execution_count": 11,
   "metadata": {},
   "outputs": [
    {
     "data": {
      "text/plain": [
       "[('conv1.0.weight', torch.Size([32, 3, 3, 3])),\n",
       " ('conv1.0.bias', torch.Size([32])),\n",
       " ('conv1.1.weight', torch.Size([32])),\n",
       " ('conv1.1.bias', torch.Size([32])),\n",
       " ('conv1.3.weight', torch.Size([64, 32, 3, 3])),\n",
       " ('conv1.3.bias', torch.Size([64])),\n",
       " ('conv1.4.weight', torch.Size([64])),\n",
       " ('conv1.4.bias', torch.Size([64])),\n",
       " ('conv2.0.weight', torch.Size([64, 64, 3, 3])),\n",
       " ('conv2.0.bias', torch.Size([64])),\n",
       " ('conv2.1.weight', torch.Size([64])),\n",
       " ('conv2.1.bias', torch.Size([64])),\n",
       " ('conv2.3.weight', torch.Size([128, 64, 3, 3])),\n",
       " ('conv2.3.bias', torch.Size([128])),\n",
       " ('conv2.4.weight', torch.Size([128])),\n",
       " ('conv2.4.bias', torch.Size([128])),\n",
       " ('conv3.0.weight', torch.Size([128, 128, 3, 3])),\n",
       " ('conv3.0.bias', torch.Size([128])),\n",
       " ('conv3.1.weight', torch.Size([128])),\n",
       " ('conv3.1.bias', torch.Size([128])),\n",
       " ('conv3.3.weight', torch.Size([256, 128, 3, 3])),\n",
       " ('conv3.3.bias', torch.Size([256])),\n",
       " ('conv3.4.weight', torch.Size([256])),\n",
       " ('conv3.4.bias', torch.Size([256])),\n",
       " ('conv4.0.weight', torch.Size([256, 256, 3, 3])),\n",
       " ('conv4.0.bias', torch.Size([256])),\n",
       " ('conv4.1.weight', torch.Size([256])),\n",
       " ('conv4.1.bias', torch.Size([256])),\n",
       " ('conv4.3.weight', torch.Size([512, 256, 3, 3])),\n",
       " ('conv4.3.bias', torch.Size([512])),\n",
       " ('conv4.4.weight', torch.Size([512])),\n",
       " ('conv4.4.bias', torch.Size([512])),\n",
       " ('conv5.0.weight', torch.Size([512, 512, 3, 3])),\n",
       " ('conv5.0.bias', torch.Size([512])),\n",
       " ('conv5.1.weight', torch.Size([512])),\n",
       " ('conv5.1.bias', torch.Size([512])),\n",
       " ('conv5.3.weight', torch.Size([512, 512, 3, 3])),\n",
       " ('conv5.3.bias', torch.Size([512])),\n",
       " ('conv5.4.weight', torch.Size([512])),\n",
       " ('conv5.4.bias', torch.Size([512])),\n",
       " ('fc1.weight', torch.Size([42, 512])),\n",
       " ('fc1.bias', torch.Size([42]))]"
      ]
     },
     "execution_count": 11,
     "metadata": {},
     "output_type": "execute_result"
    }
   ],
   "source": [
    "num_classes = len(dataset.classes)\n",
    "model = CNN(num_classes)\n",
    "[(name, parameter.shape) for name, parameter in model.named_parameters()]"
   ]
  },
  {
   "cell_type": "markdown",
   "metadata": {},
   "source": [
    "## Training"
   ]
  },
  {
   "cell_type": "code",
   "execution_count": 12,
   "metadata": {},
   "outputs": [
    {
     "name": "stdout",
     "output_type": "stream",
     "text": [
      "Training started\n"
     ]
    },
    {
     "name": "stderr",
     "output_type": "stream",
     "text": [
      " 70%|███████   | 21/30 [03:30<01:27,  9.75s/it]"
     ]
    },
    {
     "name": "stdout",
     "output_type": "stream",
     "text": [
      "Epoch 00021: reducing learning rate of group 0 to 1.0000e-04.\n"
     ]
    },
    {
     "name": "stderr",
     "output_type": "stream",
     "text": [
      "100%|██████████| 30/30 [05:00<00:00, 10.00s/it]"
     ]
    },
    {
     "name": "stdout",
     "output_type": "stream",
     "text": [
      "Training finished\n"
     ]
    },
    {
     "name": "stderr",
     "output_type": "stream",
     "text": [
      "\n"
     ]
    }
   ],
   "source": [
    "model.train(train_loader, valid_loader, device=device, num_epochs = 30)\n"
   ]
  },
  {
   "cell_type": "code",
   "execution_count": 13,
   "metadata": {},
   "outputs": [],
   "source": [
    "# Сохранить веса\n",
    "from datetime import datetime\n",
    "date = datetime.now().strftime('weights_%H_%M_%d_%m_%Y.pt')\n",
    "model.save(date)"
   ]
  },
  {
   "cell_type": "code",
   "execution_count": 14,
   "metadata": {},
   "outputs": [
    {
     "data": {
      "text/plain": [
       "Text(0, 0.5, 'Loss')"
      ]
     },
     "execution_count": 14,
     "metadata": {},
     "output_type": "execute_result"
    },
    {
     "data": {
      "image/png": "[encoded data removed]",
      "text/plain": [
       "<Figure size 800x600 with 1 Axes>"
      ]
     },
     "metadata": {},
     "output_type": "display_data"
    }
   ],
   "source": [
    "fig = plt.figure(figsize=(8, 6))\n",
    "plt.plot(model.train_losses,label = 'Training')\n",
    "plt.plot(model.valid_losses,label = 'Validation')\n",
    "plt.legend()\n",
    "plt.title('Training and validation loss')\n",
    "plt.xlabel('Iterations')\n",
    "plt.ylabel('Loss')"
   ]
  },
  {
   "cell_type": "markdown",
   "metadata": {},
   "source": [
    "## Testing"
   ]
  },
  {
   "cell_type": "code",
   "execution_count": 15,
   "metadata": {},
   "outputs": [
    {
     "name": "stdout",
     "output_type": "stream",
     "text": [
      "Testing started\n",
      "Testing finished\n",
      "F1(average): 91.559%\n"
     ]
    }
   ],
   "source": [
    "model.test(test_loader)"
   ]
  },
  {
   "cell_type": "code",
   "execution_count": null,
   "metadata": {},
   "outputs": [
    {
     "data": {
      "text/plain": [
       "<BarContainer object of 42 artists>"
      ]
     },
     "execution_count": 16,
     "metadata": {},
     "output_type": "execute_result"
    }
   ],
   "source": [
    "# Показать столбчатую диаграмму метрик для каждого класса\n",
    "bar = plt.figure(figsize=(10, 13))\n",
    "plt.title(\"Metric values by class\")\n",
    "plt.ylabel('F1-value')\n",
    "plt.xticks(ticks=np.arange(0, 1.00, 0.05))\n",
    "plt.barh(dataset.classes, np.array(model.test_metrics.cpu()))"
   ]
  },
  {
   "cell_type": "code",
   "execution_count": null,
   "metadata": {},
   "outputs": [],
   "source": []
  }
 ],
 "metadata": {
  "kernelspec": {
   "display_name": "Python 3 (ipykernel)",
   "language": "python",
   "name": "python3"
  },
  "language_info": {
   "codemirror_mode": {
    "name": "ipython",
    "version": 3
   },
   "file_extension": ".py",
   "mimetype": "text/x-python",
   "name": "python",
   "nbconvert_exporter": "python",
   "pygments_lexer": "ipython3",
   "version": "3.8.10"
  }
 },
 "nbformat": 4,
 "nbformat_minor": 4
}
